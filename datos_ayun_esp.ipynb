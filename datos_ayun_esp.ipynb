{
  "nbformat": 4,
  "nbformat_minor": 0,
  "metadata": {
    "colab": {
      "provenance": [],
      "authorship_tag": "ABX9TyNSS8M886nriX1aIx2Pgdwz",
      "include_colab_link": true
    },
    "kernelspec": {
      "name": "python3",
      "display_name": "Python 3"
    },
    "language_info": {
      "name": "python"
    }
  },
  "cells": [
    {
      "cell_type": "markdown",
      "metadata": {
        "id": "view-in-github",
        "colab_type": "text"
      },
      "source": [
        "<a href=\"https://colab.research.google.com/github/tyhrr/ASPortfolio/blob/main/datos_ayun_esp.ipynb\" target=\"_parent\"><img src=\"https://colab.research.google.com/assets/colab-badge.svg\" alt=\"Open In Colab\"/></a>"
      ]
    },
    {
      "cell_type": "code",
      "source": [
        "import pandas as pd\n",
        "from tabulate import tabulate\n",
        "\n",
        "# Use the 'on_bad_lines' argument to handle problematic lines\n",
        "upload_file = pd.read_csv('/content/data.csv', on_bad_lines='skip')\n",
        "# Replace 'skip' with 'warn' if you want to see warnings\n",
        "print(upload_file)"
      ],
      "metadata": {
        "colab": {
          "base_uri": "https://localhost:8080/"
        },
        "id": "Jfku19ccnqz1",
        "outputId": "e9170d1c-f334-49b8-c993-86ca34b08042"
      },
      "execution_count": null,
      "outputs": [
        {
          "output_type": "stream",
          "name": "stdout",
          "text": [
            "                                                                          Acciones;Oficina;Dirección;Cómo llegar;Tipo;Especialidades;Teléfonos;Emails;Fax;Horario\n",
            ";Caiss de Madrid  14 - Maldonado;CALLE  MALDONA...   MADRID   MADRID         ESPAÑA;Como llegar...;Tramitación;Cl@ve;- 91...                                     \n",
            ";Correos Estafeta Oficial Audiencia Nacional;CA...   MADRID   MADRID         ESPAÑA;Como llegar...;Sin Tipificar;Sin Espe...                                     \n",
            ";Intervención Delegada Fondo de Garantía Salari...   MADRID   MADRID         ESPAÑA;Como llegar...;Tramitación;Sin Especi...                                     \n",
            ";Intervención Delegada Ministerio del Interior ...   MADRID   MADRID         ESPAÑA;Como llegar...;Tramitación;Sin Especi...                                     \n",
            ";Intervención Delegada Parques Nacionales;CALLE...   MADRID   MADRID         ESPAÑA;Como llegar...;Tramitación;Sin Especi...                                     \n",
            ";O.A.M.R. de la Biblioteca Nacional de España;P...   MADRID   MADRID         ESPAÑA;Como llegar...;Registro;Integrada en ...                                     \n",
            ";Oficina de Violencia sobre la Mujer en Madrid;...   MADRID   MADRID         ESPAÑA;Como llegar...;Violencia de Género;Si...                                     \n",
            ";R. G. Fiscalía General del Estado;CALLE  FORTU...   MADRID   MADRID         ESPAÑA;Como llegar...;Registro;Integrada en ...                                     \n",
            ";Reg. Administración General del Estado;CALLE  ...   MADRID   MADRID         ESPAÑA;Como llegar...;Registro;Integrada en ...                                     \n",
            ";Reg. Gral. Fiscalía Antidroga;CALLE  GARCÍA GU...   MADRID   MADRID         ESPAÑA;Como llegar...;Registro;Integrada en ...                                     \n",
            ";Reg. Gral. Fiscalía de la Audiencia Nacional;C...   MADRID   MADRID         ESPAÑA;Como llegar...;Registro;Integrada en ...                                     \n",
            ";Reg. Gral. Fiscalía Especial contra la Corrupc...   MADRID   MADRID         ESPAÑA;Como llegar...;Registro;Integrada en ...                                     \n",
            ";Reg. Gral. Secretaría de Gobierno de Audiencia...   MADRID   MADRID         ESPAÑA;Como llegar...;Registro;Integrada en ...                                     \n",
            ";Registro Auxiliar de la D.G. de Recursos Human...   MADRID   MADRID         ESPAÑA;Como llegar...;Registro;Integrada en ...                                     \n",
            ";Registro Auxiliar de la D.G. de Reequilibrio T...   MADRID   MADRID         ESPAÑA;Como llegar...;Registro;Integrada en ...                                     \n",
            ";Registro Auxiliar de la D.G. de Tributos;PASEO...   MADRID   MADRID         ESPAÑA;Como llegar...;Registro;Integrada en ...                                     \n",
            ";Registro Auxiliar de la Dirección General de l...   MADRID   MADRID         ESPAÑA;Como llegar...;Registro;Integrada en ...                                     \n",
            ";Registro Auxiliar de la Dirección General de S...   MADRID   MADRID         ESPAÑA;Como llegar...;Registro;Integrada en ...                                     \n",
            ";Registro de Bienes Muebles Central;PASEO  DE L...   MADRID   MADRID         ESPAÑA;Como llegar...;Registro;Integrada en ...                                     \n",
            ";Registro de la Delegación Provincial del INE e...   MADRID   MADRID         ESPAÑA;Como llegar...;Registro;Integrada en ...                                     \n",
            ";Registro de la Fundacion Pluralismo y Conviven...   MADRID   MADRID         ESPAÑA;Como llegar...;Sin Tipificar;Sin Espe...                                     \n",
            ";Registro de la Propiedad de Torrelaguna;CALLE ...   MADRID   TORRELAGUNA    ESPAÑA;Como llegar...;Registro;Integrada en ...                                     \n",
            ";Registro Elecrtonico Siep;CALLE  MANUEL CORTIN...   MADRID   MADRID         ESPAÑA;Como llegar...;Registro;Registro Virt...                                     \n",
            ";Registro Electrónico Auxiliar de la SEAP;CALLE...   MADRID   MADRID         ESPAÑA;Como llegar...;Registro;Registro Virt...                                     \n",
            ";Registro General de la Secretaría de Coordinac...   MADRID   MADRID         ESPAÑA;Como llegar...;Registro;Integrada en ...                                     \n",
            ";Registro General del Bocm (PUBLICACIÓN ANUNCIO...   MADRID   MADRID         ESPAÑA;Como llegar...;Registro;Integrada en ...                                     \n",
            ";Registro General del Consorcio de Compensación...   MADRID   MADRID         ESPAÑA;Como llegar...;Registro;Integrada en ...                                     \n",
            ";Registro General Secretaria de Gobierno del Ts...   MADRID   MADRID         ESPAÑA;Como llegar...;Registro;Integrada en ...                                     \n",
            ";Registro Mercantil de Madrid;PASEO  PASEO DE L...   MADRID   MADRID         ESPAÑA;Como llegar...;Registro;Integrada en ...                                     \n",
            ";Registro Secretaría de Gobierno del Tribunal S...   MADRID   MADRID         ESPAÑA;Como llegar...;Registro;Integrada en ...                                     \n",
            ";Unidad Apoyo a la Fiscalía Especial contra la ...   MADRID   MADRID         ESPAÑA;Como llegar...;Tramitación;Sin Especi...                                     \n"
          ]
        }
      ]
    },
    {
      "cell_type": "code",
      "source": [
        "# prompt: crea un script usando REGEX que extraiga todos los email presentes en el archivo CSV y los guarde en un documento de formato txt\n",
        "\n",
        "import pandas as pd\n",
        "import re\n",
        "from tabulate import tabulate\n",
        "\n",
        "# Use the 'on_bad_lines' argument to handle problematic lines\n",
        "upload_file = pd.read_csv('/content/data.csv', on_bad_lines='skip')\n",
        "# Replace 'skip' with 'warn' if you want to see warnings\n",
        "\n",
        "# Extract emails using regular expressions\n",
        "emails = []\n",
        "for row in upload_file.itertuples():\n",
        "    for item in row:\n",
        "        email_matches = re.findall(r'[\\w\\.-]+@[\\w\\.-]+', str(item))\n",
        "        for email in email_matches:\n",
        "            emails.append(email)\n",
        "\n",
        "# Save emails to a text file\n",
        "with open('/content/drive/My Drive/emails.txt', 'w') as f:\n",
        "    for email in emails:\n",
        "        f.write(email + '\\n')\n"
      ],
      "metadata": {
        "id": "MFsUE6EQoTK6"
      },
      "execution_count": null,
      "outputs": []
    }
  ]
}